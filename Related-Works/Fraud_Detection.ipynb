{
  "nbformat": 4,
  "nbformat_minor": 0,
  "metadata": {
    "colab": {
      "provenance": [],
      "include_colab_link": true
    },
    "kernelspec": {
      "name": "python3",
      "display_name": "Python 3"
    },
    "language_info": {
      "name": "python"
    },
    "gpuClass": "standard"
  },
  "cells": [
    {
      "cell_type": "markdown",
      "metadata": {
        "id": "view-in-github",
        "colab_type": "text"
      },
      "source": [
        "<a href=\"https://colab.research.google.com/github/kayracoskun/GNN-Anomaly/blob/main/Fraud_Detection.ipynb\" target=\"_parent\"><img src=\"https://colab.research.google.com/assets/colab-badge.svg\" alt=\"Open In Colab\"/></a>"
      ]
    },
    {
      "cell_type": "markdown",
      "source": [
        "# **Fake News / Fraud Detection**\n",
        "Graph Neural Network Anomaly Detection"
      ],
      "metadata": {
        "id": "VW8Q6fbpmDPB"
      }
    },
    {
      "cell_type": "markdown",
      "source": [
        "## Importing libraries"
      ],
      "metadata": {
        "id": "xN2fW0f_mdgG"
      }
    },
    {
      "cell_type": "code",
      "execution_count": 1,
      "metadata": {
        "id": "0WWGzikH_RbX"
      },
      "outputs": [],
      "source": [
        "import torch\n",
        "\n",
        "def format_pytorch_version(version):\n",
        "    return version.split('+')[0]\n",
        "\n",
        "def format_cuda_version(version):\n",
        "    return 'cu' + version.replace('.', '')\n",
        "\n",
        "TORCH_version = torch.__version__\n",
        "TORCH = format_pytorch_version(TORCH_version)\n",
        "CUDA_version = torch.version.cuda\n",
        "CUDA = format_cuda_version(CUDA_version)"
      ]
    },
    {
      "cell_type": "code",
      "source": [
        "!pip install torch-scatter -f https://pytorch-geometric.com/whl/torch-{TORCH}+{CUDA}.html\n",
        "!pip install torch-sparse -f https://pytorch-geometric.com/whl/torch-{TORCH}+{CUDA}.html\n",
        "!pip install torch-cluster -f https://pytorch-geometric.com/whl/torch-{TORCH}+{CUDA}.html\n",
        "!pip install torch-spline-conv -f https://pytorch-geometric.com/whl/torch-{TORCH}+{CUDA}.html\n",
        "!pip install torch-geometric"
      ],
      "metadata": {
        "colab": {
          "base_uri": "https://localhost:8080/",
          "height": 1000
        },
        "id": "j8ptan5n_YR0",
        "outputId": "eb4f224a-6212-4701-f777-d5dc133da57a"
      },
      "execution_count": 2,
      "outputs": [
        {
          "output_type": "stream",
          "name": "stdout",
          "text": [
            "Looking in indexes: https://pypi.org/simple, https://us-python.pkg.dev/colab-wheels/public/simple/\n",
            "Looking in links: https://pytorch-geometric.com/whl/torch-1.13.0+cu116.html\n",
            "Collecting torch-scatter\n",
            "  Downloading https://data.pyg.org/whl/torch-1.13.0%2Bcu116/torch_scatter-2.1.0%2Bpt113cu116-cp38-cp38-linux_x86_64.whl (9.4 MB)\n",
            "\u001b[2K     \u001b[90m━━━━━━━━━━━━━━━━━━━━━━━━━━━━━━━━━━━━━━━━\u001b[0m \u001b[32m9.4/9.4 MB\u001b[0m \u001b[31m23.8 MB/s\u001b[0m eta \u001b[36m0:00:00\u001b[0m\n",
            "\u001b[?25hInstalling collected packages: torch-scatter\n",
            "Successfully installed torch-scatter-2.1.0+pt113cu116\n",
            "Looking in indexes: https://pypi.org/simple, https://us-python.pkg.dev/colab-wheels/public/simple/\n",
            "Looking in links: https://pytorch-geometric.com/whl/torch-1.13.0+cu116.html\n",
            "Collecting torch-sparse\n",
            "  Downloading https://data.pyg.org/whl/torch-1.13.0%2Bcu116/torch_sparse-0.6.16%2Bpt113cu116-cp38-cp38-linux_x86_64.whl (4.5 MB)\n",
            "\u001b[2K     \u001b[90m━━━━━━━━━━━━━━━━━━━━━━━━━━━━━━━━━━━━━━━━\u001b[0m \u001b[32m4.5/4.5 MB\u001b[0m \u001b[31m13.1 MB/s\u001b[0m eta \u001b[36m0:00:00\u001b[0m\n",
            "\u001b[?25hRequirement already satisfied: scipy in /usr/local/lib/python3.8/dist-packages (from torch-sparse) (1.7.3)\n",
            "Requirement already satisfied: numpy<1.23.0,>=1.16.5 in /usr/local/lib/python3.8/dist-packages (from scipy->torch-sparse) (1.21.6)\n",
            "Installing collected packages: torch-sparse\n",
            "Successfully installed torch-sparse-0.6.16+pt113cu116\n",
            "Looking in indexes: https://pypi.org/simple, https://us-python.pkg.dev/colab-wheels/public/simple/\n",
            "Looking in links: https://pytorch-geometric.com/whl/torch-1.13.0+cu116.html\n",
            "Collecting torch-cluster\n",
            "  Downloading https://data.pyg.org/whl/torch-1.13.0%2Bcu116/torch_cluster-1.6.0%2Bpt113cu116-cp38-cp38-linux_x86_64.whl (3.2 MB)\n",
            "\u001b[2K     \u001b[90m━━━━━━━━━━━━━━━━━━━━━━━━━━━━━━━━━━━━━━━━\u001b[0m \u001b[32m3.2/3.2 MB\u001b[0m \u001b[31m23.4 MB/s\u001b[0m eta \u001b[36m0:00:00\u001b[0m\n",
            "\u001b[?25hRequirement already satisfied: scipy in /usr/local/lib/python3.8/dist-packages (from torch-cluster) (1.7.3)\n",
            "Requirement already satisfied: numpy<1.23.0,>=1.16.5 in /usr/local/lib/python3.8/dist-packages (from scipy->torch-cluster) (1.21.6)\n",
            "Installing collected packages: torch-cluster\n",
            "Successfully installed torch-cluster-1.6.0+pt113cu116\n",
            "Looking in indexes: https://pypi.org/simple, https://us-python.pkg.dev/colab-wheels/public/simple/\n",
            "Looking in links: https://pytorch-geometric.com/whl/torch-1.13.0+cu116.html\n",
            "Collecting torch-spline-conv\n",
            "  Downloading https://data.pyg.org/whl/torch-1.13.0%2Bcu116/torch_spline_conv-1.2.1%2Bpt113cu116-cp38-cp38-linux_x86_64.whl (873 kB)\n",
            "\u001b[2K     \u001b[90m━━━━━━━━━━━━━━━━━━━━━━━━━━━━━━━━━━━━━━\u001b[0m \u001b[32m873.9/873.9 KB\u001b[0m \u001b[31m10.5 MB/s\u001b[0m eta \u001b[36m0:00:00\u001b[0m\n",
            "\u001b[?25hInstalling collected packages: torch-spline-conv\n",
            "Successfully installed torch-spline-conv-1.2.1+pt113cu116\n",
            "Looking in indexes: https://pypi.org/simple, https://us-python.pkg.dev/colab-wheels/public/simple/\n",
            "Collecting torch-geometric\n",
            "  Downloading torch_geometric-2.2.0.tar.gz (564 kB)\n",
            "\u001b[2K     \u001b[90m━━━━━━━━━━━━━━━━━━━━━━━━━━━━━━━━━━━━━━\u001b[0m \u001b[32m565.0/565.0 KB\u001b[0m \u001b[31m12.5 MB/s\u001b[0m eta \u001b[36m0:00:00\u001b[0m\n",
            "\u001b[?25h  Preparing metadata (setup.py) ... \u001b[?25l\u001b[?25hdone\n",
            "Requirement already satisfied: tqdm in /usr/local/lib/python3.8/dist-packages (from torch-geometric) (4.64.1)\n",
            "Requirement already satisfied: numpy in /usr/local/lib/python3.8/dist-packages (from torch-geometric) (1.21.6)\n",
            "Requirement already satisfied: scipy in /usr/local/lib/python3.8/dist-packages (from torch-geometric) (1.7.3)\n",
            "Requirement already satisfied: jinja2 in /usr/local/lib/python3.8/dist-packages (from torch-geometric) (2.11.3)\n",
            "Requirement already satisfied: requests in /usr/local/lib/python3.8/dist-packages (from torch-geometric) (2.25.1)\n",
            "Requirement already satisfied: pyparsing in /usr/local/lib/python3.8/dist-packages (from torch-geometric) (3.0.9)\n",
            "Requirement already satisfied: scikit-learn in /usr/local/lib/python3.8/dist-packages (from torch-geometric) (1.0.2)\n",
            "Collecting psutil>=5.8.0\n",
            "  Downloading psutil-5.9.4-cp36-abi3-manylinux_2_12_x86_64.manylinux2010_x86_64.manylinux_2_17_x86_64.manylinux2014_x86_64.whl (280 kB)\n",
            "\u001b[2K     \u001b[90m━━━━━━━━━━━━━━━━━━━━━━━━━━━━━━━━━━━━━━\u001b[0m \u001b[32m280.2/280.2 KB\u001b[0m \u001b[31m36.4 MB/s\u001b[0m eta \u001b[36m0:00:00\u001b[0m\n",
            "\u001b[?25hRequirement already satisfied: MarkupSafe>=0.23 in /usr/local/lib/python3.8/dist-packages (from jinja2->torch-geometric) (2.0.1)\n",
            "Requirement already satisfied: chardet<5,>=3.0.2 in /usr/local/lib/python3.8/dist-packages (from requests->torch-geometric) (4.0.0)\n",
            "Requirement already satisfied: idna<3,>=2.5 in /usr/local/lib/python3.8/dist-packages (from requests->torch-geometric) (2.10)\n",
            "Requirement already satisfied: certifi>=2017.4.17 in /usr/local/lib/python3.8/dist-packages (from requests->torch-geometric) (2022.12.7)\n",
            "Requirement already satisfied: urllib3<1.27,>=1.21.1 in /usr/local/lib/python3.8/dist-packages (from requests->torch-geometric) (1.24.3)\n",
            "Requirement already satisfied: threadpoolctl>=2.0.0 in /usr/local/lib/python3.8/dist-packages (from scikit-learn->torch-geometric) (3.1.0)\n",
            "Requirement already satisfied: joblib>=0.11 in /usr/local/lib/python3.8/dist-packages (from scikit-learn->torch-geometric) (1.2.0)\n",
            "Building wheels for collected packages: torch-geometric\n",
            "  Building wheel for torch-geometric (setup.py) ... \u001b[?25l\u001b[?25hdone\n",
            "  Created wheel for torch-geometric: filename=torch_geometric-2.2.0-py3-none-any.whl size=773302 sha256=37549edcc7e8001e4dd37bb2bdec6e258cf8670c8b741038b7bf71b443538c3b\n",
            "  Stored in directory: /root/.cache/pip/wheels/59/a3/20/198928106d3169865ae73afcbd3d3d1796cf6b429b55c65378\n",
            "Successfully built torch-geometric\n",
            "Installing collected packages: psutil, torch-geometric\n",
            "  Attempting uninstall: psutil\n",
            "    Found existing installation: psutil 5.4.8\n",
            "    Uninstalling psutil-5.4.8:\n",
            "      Successfully uninstalled psutil-5.4.8\n",
            "Successfully installed psutil-5.9.4 torch-geometric-2.2.0\n"
          ]
        },
        {
          "output_type": "display_data",
          "data": {
            "application/vnd.colab-display-data+json": {
              "pip_warning": {
                "packages": [
                  "psutil"
                ]
              }
            }
          },
          "metadata": {}
        }
      ]
    },
    {
      "cell_type": "code",
      "source": [
        "# control the version of torch_geometric\n",
        "import torch_geometric\n",
        "\n",
        "torch_geometric.__version__\n"
      ],
      "metadata": {
        "colab": {
          "base_uri": "https://localhost:8080/",
          "height": 35
        },
        "id": "amaHwWe5_a9G",
        "outputId": "fe87e28e-f5c7-4597-95aa-e267c3ffeb51"
      },
      "execution_count": 3,
      "outputs": [
        {
          "output_type": "execute_result",
          "data": {
            "text/plain": [
              "'2.2.0'"
            ],
            "application/vnd.google.colaboratory.intrinsic+json": {
              "type": "string"
            }
          },
          "metadata": {},
          "execution_count": 3
        }
      ]
    },
    {
      "cell_type": "markdown",
      "source": [
        "## Dataset\n",
        "- Contains news propagation graphs extracted from Twitter\n",
        "- Source and raw data: https://github.com/KaiDMML/FakeNewsNet\n",
        "- Preprocessing: https://arxiv.org/pdf/2104.12259.pdf\n",
        "- feature=\"content\" --> Spacy Word2Vec + Profile features"
      ],
      "metadata": {
        "id": "f2fuL02y3EL8"
      }
    },
    {
      "cell_type": "code",
      "source": [
        "# in the default version of dataset train and test data unbalanced so we change test and train dataset\n",
        "# UPFD: User Preference-aware Fake News Detection\n",
        "from torch_geometric.datasets import UPFD\n",
        "train_data = UPFD(root=\".\", name=\"gossipcop\", feature=\"content\", split=\"test\")\n",
        "test_data = UPFD(root=\".\", name=\"gossipcop\", feature=\"content\", split=\"train\")\n",
        "print(\"Train Samples: \", len(train_data))\n",
        "print(\"Test Samples: \", len(test_data))"
      ],
      "metadata": {
        "colab": {
          "base_uri": "https://localhost:8080/"
        },
        "id": "kvWisH8X_oVn",
        "outputId": "3fb33b91-7e82-4acd-f132-131244061528"
      },
      "execution_count": 4,
      "outputs": [
        {
          "output_type": "stream",
          "name": "stderr",
          "text": [
            "Downloading https://docs.google.com/uc?export=download&id=1VskhAQ92PrT4sWEKQ2v2-AJhEcpp4A81&confirm=t\n",
            "Extracting ./gossipcop/raw/uc\n",
            "Processing...\n"
          ]
        },
        {
          "output_type": "stream",
          "name": "stdout",
          "text": [
            "Train Samples:  3826\n",
            "Test Samples:  1092\n"
          ]
        },
        {
          "output_type": "stream",
          "name": "stderr",
          "text": [
            "Done!\n"
          ]
        }
      ]
    },
    {
      "cell_type": "code",
      "source": [
        "# 7 and 40 are simple example \n",
        "sample_id=39\n",
        "train_data[sample_id].edge_index"
      ],
      "metadata": {
        "colab": {
          "base_uri": "https://localhost:8080/"
        },
        "id": "T130vVWA_vYb",
        "outputId": "b0db9fc7-485d-4da4-a9ce-072129d3603b"
      },
      "execution_count": 5,
      "outputs": [
        {
          "output_type": "execute_result",
          "data": {
            "text/plain": [
              "tensor([[0, 0, 0, 0, 0, 3, 3],\n",
              "        [1, 2, 3, 4, 5, 6, 7]])"
            ]
          },
          "metadata": {},
          "execution_count": 5
        }
      ]
    },
    {
      "cell_type": "code",
      "source": [
        "# this data consist of 3 parameter\n",
        "# first parameter connected node embeddings [connected_node_number, ten_profile_features_word_embeddings] \n",
        "# second parameter edge index [root_node, connected_node]\n",
        "# third paramter fake or real news data\n",
        "\n",
        "train_data[sample_id]"
      ],
      "metadata": {
        "colab": {
          "base_uri": "https://localhost:8080/"
        },
        "id": "So7zeE_Ja2yf",
        "outputId": "63fbd300-44ad-4003-bb61-ba3fc87f30a2"
      },
      "execution_count": null,
      "outputs": [
        {
          "output_type": "execute_result",
          "data": {
            "text/plain": [
              "Data(x=[8, 310], edge_index=[2, 7], y=[1])"
            ]
          },
          "metadata": {},
          "execution_count": 18
        }
      ]
    },
    {
      "cell_type": "markdown",
      "source": [
        "- In the above example first vector defined node\n",
        "- Second vector linked node to root node"
      ],
      "metadata": {
        "id": "sq3vslCb6wZM"
      }
    },
    {
      "cell_type": "markdown",
      "source": [
        "## Visualize the graph neural networks"
      ],
      "metadata": {
        "id": "muE2fqvO3nJj"
      }
    },
    {
      "cell_type": "code",
      "source": [
        "\"\"\"\n",
        "Had to import this \"manually\" due to some errors.\n",
        "\"\"\"\n",
        "\n",
        "!pip install networkx\n",
        "import networkx as nx\n",
        "\n",
        "# From PyG utils\n",
        "def to_networkx(data, node_attrs=None, edge_attrs=None, to_undirected=False,\n",
        "                remove_self_loops=False):\n",
        "    if to_undirected:\n",
        "        G = nx.Graph()\n",
        "    else:\n",
        "        G = nx.DiGraph()\n",
        "    G.add_nodes_from(range(data.num_nodes))\n",
        "    node_attrs, edge_attrs = node_attrs or [], edge_attrs or []\n",
        "    values = {}\n",
        "    for key, item in data(*(node_attrs + edge_attrs)):\n",
        "        if torch.is_tensor(item):\n",
        "            values[key] = item.squeeze().tolist()\n",
        "        else:\n",
        "            values[key] = item\n",
        "        if isinstance(values[key], (list, tuple)) and len(values[key]) == 1:\n",
        "            values[key] = item[0]\n",
        "    for i, (u, v) in enumerate(data.edge_index.t().tolist()):\n",
        "        if to_undirected and v > u:\n",
        "            continue\n",
        "        if remove_self_loops and u == v:\n",
        "            continue\n",
        "        G.add_edge(u, v)\n",
        "        for key in edge_attrs:\n",
        "            G[u][v][key] = values[key][i]\n",
        "    for key in node_attrs:\n",
        "        for i, feat_dict in G.nodes(data=True):\n",
        "            feat_dict.update({key: values[key][i]})\n",
        "    return G"
      ],
      "metadata": {
        "colab": {
          "base_uri": "https://localhost:8080/"
        },
        "id": "uDmq2kIW_5bn",
        "outputId": "2afb0125-0419-4ada-9431-880bcd1a1894"
      },
      "execution_count": null,
      "outputs": [
        {
          "output_type": "stream",
          "name": "stdout",
          "text": [
            "Looking in indexes: https://pypi.org/simple, https://us-python.pkg.dev/colab-wheels/public/simple/\n",
            "Requirement already satisfied: networkx in /usr/local/lib/python3.8/dist-packages (2.8.8)\n"
          ]
        }
      ]
    },
    {
      "cell_type": "code",
      "source": [
        "nx.draw(to_networkx(train_data[sample_id]))"
      ],
      "metadata": {
        "colab": {
          "base_uri": "https://localhost:8080/",
          "height": 319
        },
        "id": "RaE720Sk_-pi",
        "outputId": "fb2d9db8-157b-46ce-dd17-25a076397f56"
      },
      "execution_count": null,
      "outputs": [
        {
          "output_type": "display_data",
          "data": {
            "text/plain": [
              "<Figure size 432x288 with 1 Axes>"
            ],
            "image/png": "[encoded data removed]"
          },
          "metadata": {}
        }
      ]
    },
    {
      "cell_type": "markdown",
      "source": [
        "## Node features"
      ],
      "metadata": {
        "id": "tVFDlNg-9Mfe"
      }
    },
    {
      "cell_type": "code",
      "source": [
        "# Shape [x, 310] ==> 310 is embeddings for 10 profile features\n",
        "# x is related to connected nodes to root node\n",
        "print(train_data[sample_id].x.shape)\n",
        "print(train_data[sample_id].x)"
      ],
      "metadata": {
        "colab": {
          "base_uri": "https://localhost:8080/"
        },
        "id": "rzKBpwBQABuj",
        "outputId": "384c476b-ead5-4e75-c7f9-d9d07cb7aecd"
      },
      "execution_count": null,
      "outputs": [
        {
          "output_type": "stream",
          "name": "stdout",
          "text": [
            "torch.Size([8, 310])\n",
            "tensor([[0.4630, 0.5434, 0.5594,  ..., 0.4863, 0.1111, 0.1147],\n",
            "        [0.4508, 0.5909, 0.5090,  ..., 0.1986, 0.1111, 0.1029],\n",
            "        [0.4569, 0.4519, 0.6026,  ..., 0.8493, 0.1111, 0.0000],\n",
            "        ...,\n",
            "        [0.4323, 0.5847, 0.6395,  ..., 0.6986, 0.1111, 0.3676],\n",
            "        [0.5242, 0.4985, 0.5369,  ..., 0.4863, 0.1111, 0.0000],\n",
            "        [0.4630, 0.5434, 0.5594,  ..., 0.4863, 0.1111, 0.1147]])\n"
          ]
        }
      ]
    },
    {
      "cell_type": "markdown",
      "source": [
        "## Class Distribution"
      ],
      "metadata": {
        "id": "Cu825CVG9T7R"
      }
    },
    {
      "cell_type": "code",
      "source": [
        "import pandas as pd\n",
        "labels = [data.y.item() for i, data in enumerate(train_data)]\n",
        "df = pd.DataFrame(labels, columns=[\"Labels\"])\n",
        "df[\"Labels\"].hist()"
      ],
      "metadata": {
        "colab": {
          "base_uri": "https://localhost:8080/",
          "height": 285
        },
        "id": "QrOze1REAEfp",
        "outputId": "26e5bc8c-300c-4c85-b488-79a3833e2f52"
      },
      "execution_count": null,
      "outputs": [
        {
          "output_type": "execute_result",
          "data": {
            "text/plain": [
              "<matplotlib.axes._subplots.AxesSubplot at 0x7f992ddd9fd0>"
            ]
          },
          "metadata": {},
          "execution_count": 11
        },
        {
          "output_type": "display_data",
          "data": {
            "text/plain": [
              "<Figure size 432x288 with 1 Axes>"
            ],
            "image/png": "[encoded data removed]"
          },
          "metadata": {
            "needs_background": "light"
          }
        }
      ]
    },
    {
      "cell_type": "markdown",
      "source": [
        "## Data loaders"
      ],
      "metadata": {
        "id": "NFbEXtDi9YGg"
      }
    },
    {
      "cell_type": "code",
      "source": [
        "from torch_geometric.loader import DataLoader\n",
        "train_loader = DataLoader(train_data, batch_size=128, shuffle=True)\n",
        "test_loader = DataLoader(test_data, batch_size=128, shuffle=False)"
      ],
      "metadata": {
        "id": "czg0XoAtAG4_"
      },
      "execution_count": null,
      "outputs": []
    },
    {
      "cell_type": "markdown",
      "source": [
        "## Create GNN Model"
      ],
      "metadata": {
        "id": "5Jb0dzEZ9d0R"
      }
    },
    {
      "cell_type": "markdown",
      "source": [
        "This is directed graph, it will only share information from the root"
      ],
      "metadata": {
        "id": "HwlVdVx49iFA"
      }
    },
    {
      "cell_type": "code",
      "source": [
        "from torch_geometric.nn import global_max_pool as gmp\n",
        "from torch_geometric.nn import GATConv\n",
        "from torch.nn import Linear\n",
        "\n",
        "class GNN(torch.nn.Module):\n",
        "    def __init__(self, in_channels, hidden_channels, out_channels):\n",
        "        super().__init__()\n",
        "        \n",
        "        # Graph Convolutions\n",
        "        # GATConv = Graph Attention Networks -  https://arxiv.org/abs/1710.10903\n",
        "        self.conv1 = GATConv(in_channels, hidden_channels)\n",
        "        self.conv2 = GATConv(hidden_channels, hidden_channels)\n",
        "        self.conv3 = GATConv(hidden_channels, hidden_channels)\n",
        "\n",
        "        # Readout\n",
        "        # Applies linear transformation\n",
        "        self.lin_news = Linear(in_channels, hidden_channels)\n",
        "        self.lin0 = Linear(hidden_channels, hidden_channels)\n",
        "        self.lin1 = Linear(2*hidden_channels, out_channels)\n",
        "\n",
        "    def forward(self, x, edge_index, batch):\n",
        "        # Graph Convolutions\n",
        "        h = self.conv1(x, edge_index).relu()\n",
        "        h = self.conv2(h, edge_index).relu()\n",
        "        h = self.conv3(h, edge_index).relu()\n",
        "\n",
        "        # Pooling\n",
        "        h = gmp(h, batch)\n",
        "\n",
        "        # Readout\n",
        "        h = self.lin0(h).relu()\n",
        "\n",
        "        # According to UPFD paper: Include raw word2vec embeddings of news \n",
        "        # This is done per graph in the batch\n",
        "        root = (batch[1:] - batch[:-1]).nonzero(as_tuple=False).view(-1)\n",
        "        root = torch.cat([root.new_zeros(1), root + 1], dim=0)\n",
        "        # root is e.g. [   0,   14,   94,  171,  230,  302, ... ]\n",
        "        news = x[root]\n",
        "        news = self.lin_news(news).relu()\n",
        "        \n",
        "        out = self.lin1(torch.cat([h, news], dim=-1))\n",
        "        return torch.sigmoid(out)\n",
        "\n",
        "GNN(train_data.num_features, 128, 1)"
      ],
      "metadata": {
        "colab": {
          "base_uri": "https://localhost:8080/"
        },
        "id": "KVkvb8QdAJjY",
        "outputId": "cceb278e-6b59-440e-d932-b9d8020baff1"
      },
      "execution_count": null,
      "outputs": [
        {
          "output_type": "execute_result",
          "data": {
            "text/plain": [
              "GNN(\n",
              "  (conv1): GATConv(310, 128, heads=1)\n",
              "  (conv2): GATConv(128, 128, heads=1)\n",
              "  (conv3): GATConv(128, 128, heads=1)\n",
              "  (lin_news): Linear(in_features=310, out_features=128, bias=True)\n",
              "  (lin0): Linear(in_features=128, out_features=128, bias=True)\n",
              "  (lin1): Linear(in_features=256, out_features=1, bias=True)\n",
              ")"
            ]
          },
          "metadata": {},
          "execution_count": 13
        }
      ]
    },
    {
      "cell_type": "markdown",
      "source": [
        "## Training"
      ],
      "metadata": {
        "id": "n9XgkG6qogEU"
      }
    },
    {
      "cell_type": "code",
      "source": [
        "from sklearn.metrics import accuracy_score, f1_score\n",
        "\n",
        "device = torch.device('cuda' if torch.cuda.is_available() else 'cpu')\n",
        "model = GNN(train_data.num_features, 128, 1).to(device)\n",
        "optimizer = torch.optim.Adam(model.parameters(), lr=0.01, weight_decay=0.01)\n",
        "loss_fnc = torch.nn.BCELoss()\n",
        "\n",
        "def train(epoch):\n",
        "    model.train()\n",
        "    total_loss = 0\n",
        "    for data in train_loader:\n",
        "        data = data.to(device)\n",
        "        optimizer.zero_grad()\n",
        "        out = model(data.x, data.edge_index, data.batch)\n",
        "        loss = loss_fnc(torch.reshape(out, (-1,)), data.y.float())\n",
        "        loss.backward()\n",
        "        optimizer.step()\n",
        "        total_loss += float(loss) * data.num_graphs\n",
        "    return total_loss / len(train_loader.dataset)\n",
        "\n",
        "@torch.no_grad()\n",
        "def test(epoch):\n",
        "    model.eval()\n",
        "    total_loss = 0\n",
        "    all_preds = []\n",
        "    all_labels = []\n",
        "    for data in test_loader:\n",
        "        data = data.to(device)\n",
        "        out = model(data.x, data.edge_index, data.batch)\n",
        "        loss = loss_fnc(torch.reshape(out, (-1,)), data.y.float())\n",
        "        total_loss += float(loss) * data.num_graphs\n",
        "        all_preds.append(torch.reshape(out, (-1,)))\n",
        "        all_labels.append(data.y.float())\n",
        "\n",
        "    # Calculate Metrics\n",
        "    accuracy, f1 = metrics(all_preds, all_labels)\n",
        "\n",
        "    return total_loss / len(test_loader.dataset), accuracy, f1\n",
        "\n",
        "\n",
        "def metrics(preds, gts):\n",
        "    preds = torch.round(torch.cat(preds))\n",
        "    gts = torch.cat(gts)\n",
        "    acc = accuracy_score(preds, gts)\n",
        "    f1 = f1_score(preds, gts)\n",
        "    return acc, f1"
      ],
      "metadata": {
        "id": "-pxIcSbTANyJ"
      },
      "execution_count": null,
      "outputs": []
    },
    {
      "cell_type": "code",
      "source": [
        "for epoch in range(40):\n",
        "    train_loss = train(epoch)\n",
        "    test_loss, test_acc, test_f1 = test(epoch)\n",
        "    print(f'Epoch: {epoch:02d} |  TrainLoss: {train_loss:.2f} | '\n",
        "          f'TestLoss: {test_loss:.2f} | TestAcc: {test_acc:.2f} | TestF1: {test_f1:.2f}')"
      ],
      "metadata": {
        "colab": {
          "base_uri": "https://localhost:8080/"
        },
        "id": "Lre-TdrfARDn",
        "outputId": "b84c75ea-1170-4fc7-d026-930c84d67692"
      },
      "execution_count": null,
      "outputs": [
        {
          "output_type": "stream",
          "name": "stdout",
          "text": [
            "Epoch: 00 |  TrainLoss: 0.70 | TestLoss: 0.68 | TestAcc: 0.51 | TestF1: 0.02\n",
            "Epoch: 01 |  TrainLoss: 0.68 | TestLoss: 0.67 | TestAcc: 0.53 | TestF1: 0.08\n",
            "Epoch: 02 |  TrainLoss: 0.68 | TestLoss: 0.66 | TestAcc: 0.50 | TestF1: 0.66\n",
            "Epoch: 03 |  TrainLoss: 0.65 | TestLoss: 0.65 | TestAcc: 0.49 | TestF1: 0.66\n",
            "Epoch: 04 |  TrainLoss: 0.63 | TestLoss: 0.58 | TestAcc: 0.76 | TestF1: 0.67\n",
            "Epoch: 05 |  TrainLoss: 0.58 | TestLoss: 0.55 | TestAcc: 0.68 | TestF1: 0.51\n",
            "Epoch: 06 |  TrainLoss: 0.53 | TestLoss: 0.49 | TestAcc: 0.76 | TestF1: 0.67\n",
            "Epoch: 07 |  TrainLoss: 0.53 | TestLoss: 0.54 | TestAcc: 0.64 | TestF1: 0.73\n",
            "Epoch: 08 |  TrainLoss: 0.46 | TestLoss: 0.41 | TestAcc: 0.91 | TestF1: 0.91\n",
            "Epoch: 09 |  TrainLoss: 0.42 | TestLoss: 0.45 | TestAcc: 0.80 | TestF1: 0.83\n",
            "Epoch: 10 |  TrainLoss: 0.41 | TestLoss: 0.39 | TestAcc: 0.86 | TestF1: 0.87\n",
            "Epoch: 11 |  TrainLoss: 0.37 | TestLoss: 0.33 | TestAcc: 0.92 | TestF1: 0.91\n",
            "Epoch: 12 |  TrainLoss: 0.33 | TestLoss: 0.38 | TestAcc: 0.81 | TestF1: 0.77\n",
            "Epoch: 13 |  TrainLoss: 0.32 | TestLoss: 0.30 | TestAcc: 0.93 | TestF1: 0.93\n",
            "Epoch: 14 |  TrainLoss: 0.31 | TestLoss: 0.29 | TestAcc: 0.92 | TestF1: 0.91\n",
            "Epoch: 15 |  TrainLoss: 0.32 | TestLoss: 0.28 | TestAcc: 0.93 | TestF1: 0.93\n",
            "Epoch: 16 |  TrainLoss: 0.38 | TestLoss: 0.27 | TestAcc: 0.94 | TestF1: 0.94\n",
            "Epoch: 17 |  TrainLoss: 0.32 | TestLoss: 0.30 | TestAcc: 0.91 | TestF1: 0.92\n",
            "Epoch: 18 |  TrainLoss: 0.30 | TestLoss: 0.28 | TestAcc: 0.91 | TestF1: 0.92\n",
            "Epoch: 19 |  TrainLoss: 0.30 | TestLoss: 0.26 | TestAcc: 0.93 | TestF1: 0.94\n",
            "Epoch: 20 |  TrainLoss: 0.26 | TestLoss: 0.27 | TestAcc: 0.91 | TestF1: 0.91\n",
            "Epoch: 21 |  TrainLoss: 0.28 | TestLoss: 0.28 | TestAcc: 0.91 | TestF1: 0.91\n",
            "Epoch: 22 |  TrainLoss: 0.28 | TestLoss: 0.24 | TestAcc: 0.95 | TestF1: 0.95\n",
            "Epoch: 23 |  TrainLoss: 0.26 | TestLoss: 0.26 | TestAcc: 0.92 | TestF1: 0.92\n",
            "Epoch: 24 |  TrainLoss: 0.25 | TestLoss: 0.23 | TestAcc: 0.95 | TestF1: 0.94\n",
            "Epoch: 25 |  TrainLoss: 0.24 | TestLoss: 0.23 | TestAcc: 0.94 | TestF1: 0.94\n",
            "Epoch: 26 |  TrainLoss: 0.25 | TestLoss: 0.24 | TestAcc: 0.93 | TestF1: 0.93\n",
            "Epoch: 27 |  TrainLoss: 0.24 | TestLoss: 0.25 | TestAcc: 0.93 | TestF1: 0.93\n",
            "Epoch: 28 |  TrainLoss: 0.24 | TestLoss: 0.23 | TestAcc: 0.94 | TestF1: 0.94\n",
            "Epoch: 29 |  TrainLoss: 0.26 | TestLoss: 0.23 | TestAcc: 0.93 | TestF1: 0.93\n",
            "Epoch: 30 |  TrainLoss: 0.26 | TestLoss: 0.29 | TestAcc: 0.88 | TestF1: 0.86\n",
            "Epoch: 31 |  TrainLoss: 0.27 | TestLoss: 0.26 | TestAcc: 0.91 | TestF1: 0.90\n",
            "Epoch: 32 |  TrainLoss: 0.24 | TestLoss: 0.22 | TestAcc: 0.94 | TestF1: 0.94\n",
            "Epoch: 33 |  TrainLoss: 0.24 | TestLoss: 0.23 | TestAcc: 0.94 | TestF1: 0.94\n",
            "Epoch: 34 |  TrainLoss: 0.26 | TestLoss: 0.22 | TestAcc: 0.94 | TestF1: 0.94\n",
            "Epoch: 35 |  TrainLoss: 0.27 | TestLoss: 0.31 | TestAcc: 0.87 | TestF1: 0.88\n",
            "Epoch: 36 |  TrainLoss: 0.24 | TestLoss: 0.21 | TestAcc: 0.95 | TestF1: 0.95\n",
            "Epoch: 37 |  TrainLoss: 0.24 | TestLoss: 0.23 | TestAcc: 0.93 | TestF1: 0.93\n",
            "Epoch: 38 |  TrainLoss: 0.26 | TestLoss: 0.29 | TestAcc: 0.88 | TestF1: 0.86\n",
            "Epoch: 39 |  TrainLoss: 0.24 | TestLoss: 0.22 | TestAcc: 0.93 | TestF1: 0.93\n"
          ]
        }
      ]
    },
    {
      "cell_type": "markdown",
      "source": [
        "## Validate the accuracy"
      ],
      "metadata": {
        "id": "PfU6F-I99w1H"
      }
    },
    {
      "cell_type": "code",
      "source": [
        "for data in test_loader:\n",
        "    data = data.to(device)\n",
        "    pred = model(data.x, data.edge_index, data.batch)\n",
        "    df = pd.DataFrame()\n",
        "    df[\"pred_logit\"] = pred.detach().numpy()[:,0]\n",
        "    df[\"pred\"] = torch.round(pred).detach().numpy()[:,0]\n",
        "    df[\"true\"] = data.y.numpy()\n",
        "    print(df.head(10))\n",
        "    break"
      ],
      "metadata": {
        "colab": {
          "base_uri": "https://localhost:8080/"
        },
        "id": "Rzs-OJfjAYJm",
        "outputId": "4c864f9f-ea2c-4eef-8bc7-e1c210d1d612"
      },
      "execution_count": null,
      "outputs": [
        {
          "output_type": "stream",
          "name": "stdout",
          "text": [
            "   pred_logit  pred  true\n",
            "0    0.132912   0.0     0\n",
            "1    0.823251   1.0     1\n",
            "2    0.992463   1.0     1\n",
            "3    0.067484   0.0     0\n",
            "4    0.108018   0.0     0\n",
            "5    0.961466   1.0     1\n",
            "6    0.869616   1.0     1\n",
            "7    0.858568   1.0     1\n",
            "8    0.186564   0.0     0\n",
            "9    0.720220   1.0     1\n"
          ]
        }
      ]
    }
  ]
}